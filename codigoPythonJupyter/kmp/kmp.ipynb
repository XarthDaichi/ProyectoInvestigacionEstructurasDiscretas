{
 "cells": [
  {
   "cell_type": "code",
   "execution_count": 8,
   "metadata": {},
   "outputs": [
    {
     "name": "stdout",
     "output_type": "stream",
     "text": [
      "Found pattern at index 2\n",
      "[2]\n",
      "Pattern doesn't occur\n",
      "[]\n",
      "Found pattern at index 10\n",
      "Found pattern at index 22\n",
      "[10, 22]\n",
      "Found pattern at index 24\n",
      "[24]\n"
     ]
    },
    {
     "data": {
      "text/plain": [
       "'\\nAnalisis de 6 pasos:\\nPaso 1: n + m con n = len(texto) y m = len(patron)\\npaso 2: comparaciones entre Pat y Txt\\npaso 3: 1 + T_(n-1) + 1 + T_(m-1)\\npaso 4: T_kmp = n + m\\npaso 5: O(n + m)\\n'"
      ]
     },
     "execution_count": 8,
     "metadata": {},
     "output_type": "execute_result"
    }
   ],
   "source": [
    "def KMPSearch(txt, pat):\n",
    "    n = len(txt)\n",
    "    m = len(pat)\n",
    "    listOfIndex = []\n",
    "    lps = [0]*m\n",
    "    \n",
    "    # procesamiento\n",
    "    longitud = 0 # longitud del sufijo del prefijo mas largo\n",
    "    i = 1\n",
    "    while i < m:\n",
    "        if pat[i] == pat[longitud]:\n",
    "            longitud += 1\n",
    "            lps[i] = longitud\n",
    "            i += 1\n",
    "        else:\n",
    "            if longitud != 0:\n",
    "                longitud = lps[longitud-1]\n",
    "            else:\n",
    "                lps[i] = 0\n",
    "                i += 1\n",
    "                \n",
    "    j = 0\n",
    "    i = 0\n",
    "    while i < n:\n",
    "        if pat[j] == txt[i]:\n",
    "            i += 1\n",
    "            j += 1\n",
    "        if j == m:\n",
    "            listOfIndex += [i-j]\n",
    "            j = lps[j-1]\n",
    "        elif i < n and pat[j] != txt[i]:\n",
    "\n",
    "            if j != 0:\n",
    "                j = lps[j-1]\n",
    "            else:\n",
    "                i += 1\n",
    "    return listOfIndex\n",
    "\n",
    "txt = \"abcde\"\n",
    "pat = \"cde\"\n",
    "print(KMPSearch(txt, pat))\n",
    "\n",
    "txt = \"abcde\"\n",
    "pat = \"123\"\n",
    "print(KMPSearch(txt, pat))\n",
    "\n",
    "txt = \"ABABDABACDABABCABABAAAABABCABAB\"\n",
    "pat = \"ABABCABAB\"\n",
    "print(KMPSearch(txt, pat))\n",
    "\n",
    "txt = \"AAAAAAAAAAAAAAAAAAAAAAAAAAAAAZ\"\n",
    "pat = \"AAAAAZ\"\n",
    "print(KMPSearch(txt, pat))\n",
    "\n",
    "\n",
    "\n",
    "'''\n",
    "Analisis de 6 pasos:\n",
    "Paso 1: n + m con n = len(texto) y m = len(patron)\n",
    "paso 2: comparaciones entre Pat y Txt\n",
    "paso 3: 1 + T_(n-1) + 1 + T_(m-1)\n",
    "paso 4: T_kmp = n + m\n",
    "paso 5: O(n + m)\n",
    "'''\n",
    "\n"
   ]
  },
  {
   "cell_type": "code",
   "execution_count": 32,
   "metadata": {},
   "outputs": [
    {
     "data": {
      "image/png": "[encoded data removed]",
      "text/plain": [
       "<Figure size 432x288 with 1 Axes>"
      ]
     },
     "metadata": {
      "needs_background": "light"
     },
     "output_type": "display_data"
    }
   ],
   "source": [
    "import matplotlib.pyplot  as plt\n",
    "import numpy as np\n",
    "import math as m\n",
    "\n",
    "def KMPSearch_instrumentado(txt, pat):\n",
    "    cont = 0    #instrumentacion\n",
    "    n = len(txt)\n",
    "    m = len(pat)\n",
    "    listOfIndex = []\n",
    "    lps = [0]*m\n",
    "    # cont += 1 #construccion de lps\n",
    "\n",
    "    # procesamiento\n",
    "    longitud = 0 # longitud del sufijo del prefijo mas largo\n",
    "    x = 1\n",
    "    while x < m:\n",
    "        if pat[x] == pat[longitud]:\n",
    "            cont += 1 #construccion de lps\n",
    "            longitud += 1\n",
    "            lps[x] = longitud\n",
    "            x += 1\n",
    "        else:\n",
    "            if longitud != 0:\n",
    "                longitud = lps[longitud-1]\n",
    "            else:\n",
    "                cont += 1 #construccion de lps\n",
    "                lps[x] = 0\n",
    "                x += 1\n",
    "    j = 0\n",
    "    i = 0\n",
    "    #Searching\n",
    "    while i < n:\n",
    "        cont += 1 # == del primer if\n",
    "        if pat[j] == txt[i]:\n",
    "            i += 1\n",
    "            j += 1\n",
    "        if j == m:\n",
    "            listOfIndex += [i - j]\n",
    "            j = lps[j-1]\n",
    "        elif i < n and pat[j] != txt[i]:\n",
    "            cont += 1 # '!=' del elif (Comparacion entre patron y texto)\n",
    "            if j != 0:\n",
    "                j = lps[j-1]\n",
    "            else:\n",
    "                i += 1\n",
    "    return cont\n",
    "\n",
    "\n",
    "def test_KMP_instrumentado(start, end, inc):\n",
    "    graph = []\n",
    "    graph.append([])\n",
    "    graph.append([])\n",
    "    for i in range(start, end, inc):\n",
    "        a = \"aa\" * i\n",
    "        b = \"a\" * i\n",
    "        graph[0] += [len(a) + len(b)]\n",
    "        graph[1] += [KMPSearch_instrumentado(a, b)]\n",
    "    return graph\n",
    "\n",
    "g = test_KMP_instrumentado(10, 200, 10)\n",
    "tempX = list(range(10, 800, 10))\n",
    "plt.plot(g[0], g[0], color=\"red\", label=\"identidad\", linewidth=2.0)\n",
    "plt.plot(g[0], g[1],  \"--\", color=\"blue\", label=\"kmp\") \n",
    "plt.legend()\n",
    "plt.xlabel('Time')\n",
    "plt.ylabel(\"n + m\")\n",
    "plt.title(\"Análisis de Tiempo de KMP\")\n",
    "plt.show()"
   ]
  },
  {
   "cell_type": "code",
   "execution_count": 3,
   "metadata": {},
   "outputs": [],
   "source": [
    "def test_KMP_instrumentado(filename):\n",
    "    file = open(filename, 'w')\n",
    "    file.write('txt_const;pat_var;time;txt_var;pat_const;time\\n')\n",
    "    for i in range(2, 21, 1):\n",
    "        txt = \"aaaaaaaaaaaaaaaaaaah\"\n",
    "        pat = \"a\" * i\n",
    "        l = list(pat)\n",
    "        l[len(pat) - 1] = 'h'\n",
    "        pat = \"\".join(l)\n",
    "\n",
    "        txt2 = \"aaa\" * i\n",
    "        pat2 = \"ah\"\n",
    "        l2 = list(txt2)\n",
    "        l2[len(txt2) - 1] = 'h'\n",
    "        txt2 = \"\".join(l)\n",
    "\n",
    "        file.write(f\"{20};{len(pat)};{KMPSearch_instrumentado(txt, pat)};{len(txt2)};{2};{KMPSearch_instrumentado(txt2, pat2)}\\n\")\n",
    "    file.close\n",
    "\n",
    "test_KMP_instrumentado('./KMP_instrumentado.csv')"
   ]
  }
 ],
 "metadata": {
  "interpreter": {
   "hash": "722fc858008cf1041b4dd6c954dc939cb4c526adc9905b7bfe040fcc021795bf"
  },
  "kernelspec": {
   "display_name": "Python 3.9.7 ('base')",
   "language": "python",
   "name": "python3"
  },
  "language_info": {
   "codemirror_mode": {
    "name": "ipython",
    "version": 3
   },
   "file_extension": ".py",
   "mimetype": "text/x-python",
   "name": "python",
   "nbconvert_exporter": "python",
   "pygments_lexer": "ipython3",
   "version": "3.9.7"
  },
  "orig_nbformat": 4
 },
 "nbformat": 4,
 "nbformat_minor": 2
}
