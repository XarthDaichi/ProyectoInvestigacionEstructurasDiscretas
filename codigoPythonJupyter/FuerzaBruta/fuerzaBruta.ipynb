{
 "cells": [
  {
   "cell_type": "markdown",
   "metadata": {},
   "source": [
    "Código del algoritmo"
   ]
  },
  {
   "cell_type": "code",
   "execution_count": 1,
   "metadata": {},
   "outputs": [
    {
     "name": "stdout",
     "output_type": "stream",
     "text": [
      "[2]\n",
      "[]\n",
      "[10]\n",
      "[2, 5]\n"
     ]
    }
   ],
   "source": [
    "#código basado en https://programmerclick.com/article/21021656414/\n",
    "# largo patron * (largo de texto - largo del patron +1) https://eprints.ucm.es/id/eprint/50249/1/1001321966-299767_BEATRIZ_CORONADO_SANZ_TFG_Beatriz_Coronado_Sanz_3506267_16039712.pdf \n",
    "def fuerza_bruta(texto, patron):\n",
    "    n = len(texto)\n",
    "    m = len(patron)\n",
    "    indexList = []\n",
    "    i = 0\n",
    "    while i < n-m +1 :\n",
    "        j = 0\n",
    "        while j < m:\n",
    "            if texto[i + j] != patron[j]:\n",
    "                break\n",
    "\n",
    "            j += 1\n",
    "        if j == m:\n",
    "            indexList += [i]\n",
    "        i += 1\n",
    "    return indexList\n",
    "\n",
    "txt = \"abcde\"\n",
    "pat = \"cde\"\n",
    "print(fuerza_bruta(txt, pat))\n",
    "\n",
    "txt = \"abcde\"\n",
    "pat = \"123\"\n",
    "print(fuerza_bruta(txt, pat))\n",
    "\n",
    "txt = \"ABABDABACDABABCABAB\"\n",
    "pat = \"ABABCABAB\"\n",
    "print(fuerza_bruta(txt, pat))\n",
    "\n",
    "txt=\"abcdecde\"\n",
    "pat=\"cde\"\n",
    "print(fuerza_bruta(txt, pat))"
   ]
  },
  {
   "cell_type": "code",
   "execution_count": 4,
   "metadata": {},
   "outputs": [
    {
     "data": {
      "image/png": "[encoded data removed]",
      "text/plain": [
       "<Figure size 432x288 with 1 Axes>"
      ]
     },
     "metadata": {},
     "output_type": "display_data"
    }
   ],
   "source": [
    "import matplotlib.pyplot  as plt\n",
    "import numpy as np\n",
    "import math as m\n",
    "\n",
    "def fuerza_bruta_instrumentado(texto, patron):\n",
    "    operaciones = 0\n",
    "    n = len(texto)\n",
    "    m = len(patron)\n",
    "    indexList = []\n",
    "    i = 0\n",
    "    \n",
    "    while i < n-m +1 :\n",
    "        j = 0\n",
    "        while j < m:\n",
    "            operaciones += 1 # el != de abajo\n",
    "            if texto[i + j] != patron[j]:\n",
    "                break\n",
    "            j += 1\n",
    "        if j == m:\n",
    "            indexList += [i]\n",
    "        i += 1\n",
    "    return operaciones\n",
    "\n",
    "def test_fuerza_bruta_instrumentado(start, end, inc):\n",
    "    graph = []\n",
    "    graph.append([])\n",
    "    graph.append([])\n",
    "    for i in range(start, end, inc):\n",
    "        a = \"aaaa\" * i\n",
    "        b = \"aa\" * i\n",
    "        graph[0] += [len(a) * len(b)]\n",
    "        graph[1] += [fuerza_bruta_instrumentado(a, b)]\n",
    "    return graph\n",
    "\n",
    "g = test_fuerza_bruta_instrumentado(10, 200, 10)\n",
    "tempX = list(range(10, 85000, 10))\n",
    "plt.plot(g[0], g[1],  \"--\", color=\"blue\", label=\"fuerza_bruta\") \n",
    "plt.plot(tempX, tempX, color=\"yellow\", label=\"identidad\", linewidth=2.0)\n",
    "plt.legend()\n",
    "plt.xlabel('Time')\n",
    "plt.ylabel(\"N\")\n",
    "plt.title(\"Análisis de Tiempo de Fuerza Bruta\")\n",
    "plt.show()"
   ]
  }
 ],
 "metadata": {
  "interpreter": {
   "hash": "722fc858008cf1041b4dd6c954dc939cb4c526adc9905b7bfe040fcc021795bf"
  },
  "kernelspec": {
   "display_name": "Python 3.9.7 ('base')",
   "language": "python",
   "name": "python3"
  },
  "language_info": {
   "codemirror_mode": {
    "name": "ipython",
    "version": 3
   },
   "file_extension": ".py",
   "mimetype": "text/x-python",
   "name": "python",
   "nbconvert_exporter": "python",
   "pygments_lexer": "ipython3",
   "version": "3.9.7"
  },
  "orig_nbformat": 4
 },
 "nbformat": 4,
 "nbformat_minor": 2
}
