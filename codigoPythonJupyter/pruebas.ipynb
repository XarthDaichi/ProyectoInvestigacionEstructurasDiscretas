{
 "cells": [
  {
   "cell_type": "code",
<<<<<<< HEAD:codigoPythonJupyter/pruebas.ipynb
   "execution_count": 82,
=======
   "execution_count": 8,
>>>>>>> 804372464c1214bfd338847cf32845897f69ac9e:codigoPythonJupyter/pruebasADN.ipynb
   "metadata": {},
   "outputs": [],
   "source": [
    "# Sacado http://www.faculty.ucr.edu/~mmaduro/random.htm \n",
    "\n",
    "DNAR=\"TACGATGGCGCCAACTCAATCGCAGCTCGAGCGCCCTGAATAACGTACTCATCTCAACTCATTCTCGGCAATCTACCGAGCGACTCGATTATCAACGGCTGTCTAGCAGTTCTAATCTTTTGCCAGCATCGTAATAGCCTCCAAGAGATTGATGATAGCTATCGGCACAGAACTGAGACGGCGCCGATGGATAGCGGACTTTCGGTCAACCACAATTCCCCACGGGACAGGTCCTGCGGTGCGCATCACTCTGAATGTACAAGCAACCCAAGTGGGCCGAGCCTGGACTCAGCTGGTTCCTGCGTGAGCTCGAGACTCGGGATGACAGCTCTTTAAACATAGAGCGGGGGCGTCGAACGGTCGAGAAAGTCATAGTACCTCGGGTACCAACTTACTCAGGTTATTGCTTGAAGCTGTACTATTTTAGGGGGGGAGCGCTGAAGGTCTCTTCTTCTCATGACTGAACTCGCGAGGGTCGTGAAGTCGGTTCCTTCAATGGTTAAAAAACAAAGGCTTACTGTGCGCAGAGGAACGCCCATCTAGCGGCTGGCGTCTTGAATGCTCGGTCCCCTTTGTCATTCCGGATTAATCCATTTCCCTCATTCACGAGCTTGCGAAGTCTACATTGGTATATGAATGCGACCTAGAAGAGGGCGCTTAAAATTGGCAGTGGTTGATGCTCTAAACTCCATTTGGTTTACTCGTGCATCACCGCGATAGGCTGACAAAGGTTTAACATTGAATAGCAAGGCACTTCCGGTCTCAATGAACGGCCGGGAAAGGTACGCGCGCGGTATGGGAGGATCAAGGGGCCAATAGAGAGGCTCCTCTCTCACTCGCTAGGAGGCAAATGTAAAACAATGGTTACTGCATCGATACATAAAACATGTCCATCGGTTGCCCAAAGTGTTAAGTGTCTATCACCCCTAGGGCCGTTTCCCGCATATAAACGCCAGGTTGTATCCGCATTTGATGCTACCGTGGATGAGTCTGCGTCGAG\"\n",
    "\n",
    "# secuencia sacada de https://zaguan.unizar.es/record/47796/files/TAZ-TFG-2015-1112.pdf\n",
    "DNANWH=\"ATGGCGACCCTGGAAAAGCTGATGAAGGCCTTCGAGTCCCTCAAGTCCTTCCAGCAGCAGCAGCAGCAGCAGCAGCAGCAGCAGCAGCAGCAGCAGCAGCAGCAGCAGCAACAGCCGCCACCGCCGCCGCCGCCGCCGCCGCCTCCTCAGCTTCCTCAGCCGCCGCCGCAGGCACAGCCGCTGCTGCCTCAGCCGCAGCCGCCCCCGCCGCCGCCG\"\n",
    "DNAWH=\"ATGGCGACCCTGGAAAAGCTGATGAAGGCCTTCGAGTCCCTCAAGTCCTTCCAGCAGCAGCAGCAGCAGCAGCAGCAGCAGCAGCAGCAGCAGCAGCAGCAGCAGCAGCAGCAGCAGCAGCAGCAGCAGCAGCAGCAGCAGCAGCAGCAGCAGCAGCAGCAACAGCCGCCACCGCCGCCGCCGCCGCCGCCGCCTCCTCAGCTTCCTCAGCCGCCGCCGCAGGCACAGCCGCTGCTGCCTCAGCCGCAGCCGCCCCCGCCGCCGCCG\"\n",
    "\n",
    "HUNTINGTON=\"CAG\""
   ]
  },
  {
   "cell_type": "code",
<<<<<<< HEAD:codigoPythonJupyter/pruebas.ipynb
   "execution_count": 83,
=======
   "execution_count": 9,
>>>>>>> 804372464c1214bfd338847cf32845897f69ac9e:codigoPythonJupyter/pruebasADN.ipynb
   "metadata": {},
   "outputs": [],
   "source": [
    "def fuerza_bruta(texto, patron):\n",
    "    n = len(texto)\n",
    "    m = len(patron)\n",
    "    indexList = []\n",
    "    i = 0\n",
    "    while i < n-m +1 :\n",
    "        j = 0\n",
    "        while j < m:\n",
    "            if texto[i + j] != patron[j]:\n",
    "                break\n",
    "            j += 1\n",
    "        if j == m:\n",
    "            indexList += [i]\n",
    "        i += 1\n",
    "    return indexList\n",
    "\n",
    "fb = '''\n",
    "from __main__ import fuerza_bruta\n",
    "'''\n",
    "DNATESTCODERANDOMFB = '''\n",
    "DNAR=\"TACGATGGCGCCAACTCAATCGCAGCTCGAGCGCCCTGAATAACGTACTCATCTCAACTCATTCTCGGCAATCTACCGAGCGACTCGATTATCAACGGCTGTCTAGCAGTTCTAATCTTTTGCCAGCATCGTAATAGCCTCCAAGAGATTGATGATAGCTATCGGCACAGAACTGAGACGGCGCCGATGGATAGCGGACTTTCGGTCAACCACAATTCCCCACGGGACAGGTCCTGCGGTGCGCATCACTCTGAATGTACAAGCAACCCAAGTGGGCCGAGCCTGGACTCAGCTGGTTCCTGCGTGAGCTCGAGACTCGGGATGACAGCTCTTTAAACATAGAGCGGGGGCGTCGAACGGTCGAGAAAGTCATAGTACCTCGGGTACCAACTTACTCAGGTTATTGCTTGAAGCTGTACTATTTTAGGGGGGGAGCGCTGAAGGTCTCTTCTTCTCATGACTGAACTCGCGAGGGTCGTGAAGTCGGTTCCTTCAATGGTTAAAAAACAAAGGCTTACTGTGCGCAGAGGAACGCCCATCTAGCGGCTGGCGTCTTGAATGCTCGGTCCCCTTTGTCATTCCGGATTAATCCATTTCCCTCATTCACGAGCTTGCGAAGTCTACATTGGTATATGAATGCGACCTAGAAGAGGGCGCTTAAAATTGGCAGTGGTTGATGCTCTAAACTCCATTTGGTTTACTCGTGCATCACCGCGATAGGCTGACAAAGGTTTAACATTGAATAGCAAGGCACTTCCGGTCTCAATGAACGGCCGGGAAAGGTACGCGCGCGGTATGGGAGGATCAAGGGGCCAATAGAGAGGCTCCTCTCTCACTCGCTAGGAGGCAAATGTAAAACAATGGTTACTGCATCGATACATAAAACATGTCCATCGGTTGCCCAAAGTGTTAAGTGTCTATCACCCCTAGGGCCGTTTCCCGCATATAAACGCCAGGTTGTATCCGCATTTGATGCTACCGTGGATGAGTCTGCGTCGAG\"\n",
    "fuerza_bruta(DNAR, 'A')\n",
    "'''"
   ]
  },
  {
   "cell_type": "code",
<<<<<<< HEAD:codigoPythonJupyter/pruebas.ipynb
   "execution_count": 84,
=======
   "execution_count": 10,
>>>>>>> 804372464c1214bfd338847cf32845897f69ac9e:codigoPythonJupyter/pruebasADN.ipynb
   "metadata": {},
   "outputs": [],
   "source": [
    "def KMPSearch(txt, pat):\n",
    "    n = len(txt)\n",
    "    m = len(pat)\n",
    "    listOfIndex = []\n",
    "    lps = [0]*m\n",
    "    \n",
    "    # procesamiento\n",
    "    longitud = 0 # longitud del sufijo del prefijo mas largo\n",
    "    i = 1\n",
    "    while i < m:\n",
    "        if pat[i] == pat[longitud]:\n",
    "            longitud += 1\n",
    "            lps[i] = longitud\n",
    "            i += 1\n",
    "        else:\n",
    "            if longitud != 0:\n",
    "                longitud = lps[longitud-1]\n",
    "            else:\n",
    "                lps[i] = 0\n",
    "                i += 1\n",
    "                \n",
    "    j = 0\n",
    "    i = 0\n",
    "    while i < n:\n",
    "        if pat[j] == txt[i]:\n",
    "            i += 1\n",
    "            j += 1\n",
    "        if j == m:\n",
    "            listOfIndex += [i-j]\n",
    "            j = lps[j-1]\n",
    "        elif i < n and pat[j] != txt[i]:\n",
    "\n",
    "            if j != 0:\n",
    "                j = lps[j-1]\n",
    "            else:\n",
    "                i += 1\n",
    "    return listOfIndex\n",
    "\n",
    "kmp = '''\n",
    "from __main__ import KMPSearch\n",
    "'''\n",
    "\n",
    "DNATESTCODERANDOMKMP = '''\n",
    "DNAR=\"TACGATGGCGCCAACTCAATCGCAGCTCGAGCGCCCTGAATAACGTACTCATCTCAACTCATTCTCGGCAATCTACCGAGCGACTCGATTATCAACGGCTGTCTAGCAGTTCTAATCTTTTGCCAGCATCGTAATAGCCTCCAAGAGATTGATGATAGCTATCGGCACAGAACTGAGACGGCGCCGATGGATAGCGGACTTTCGGTCAACCACAATTCCCCACGGGACAGGTCCTGCGGTGCGCATCACTCTGAATGTACAAGCAACCCAAGTGGGCCGAGCCTGGACTCAGCTGGTTCCTGCGTGAGCTCGAGACTCGGGATGACAGCTCTTTAAACATAGAGCGGGGGCGTCGAACGGTCGAGAAAGTCATAGTACCTCGGGTACCAACTTACTCAGGTTATTGCTTGAAGCTGTACTATTTTAGGGGGGGAGCGCTGAAGGTCTCTTCTTCTCATGACTGAACTCGCGAGGGTCGTGAAGTCGGTTCCTTCAATGGTTAAAAAACAAAGGCTTACTGTGCGCAGAGGAACGCCCATCTAGCGGCTGGCGTCTTGAATGCTCGGTCCCCTTTGTCATTCCGGATTAATCCATTTCCCTCATTCACGAGCTTGCGAAGTCTACATTGGTATATGAATGCGACCTAGAAGAGGGCGCTTAAAATTGGCAGTGGTTGATGCTCTAAACTCCATTTGGTTTACTCGTGCATCACCGCGATAGGCTGACAAAGGTTTAACATTGAATAGCAAGGCACTTCCGGTCTCAATGAACGGCCGGGAAAGGTACGCGCGCGGTATGGGAGGATCAAGGGGCCAATAGAGAGGCTCCTCTCTCACTCGCTAGGAGGCAAATGTAAAACAATGGTTACTGCATCGATACATAAAACATGTCCATCGGTTGCCCAAAGTGTTAAGTGTCTATCACCCCTAGGGCCGTTTCCCGCATATAAACGCCAGGTTGTATCCGCATTTGATGCTACCGTGGATGAGTCTGCGTCGAG\"\n",
    "KMPSearch(DNAR, 'A')\n",
    "'''"
   ]
  },
  {
   "cell_type": "code",
<<<<<<< HEAD:codigoPythonJupyter/pruebas.ipynb
   "execution_count": 85,
=======
   "execution_count": 11,
>>>>>>> 804372464c1214bfd338847cf32845897f69ac9e:codigoPythonJupyter/pruebasADN.ipynb
   "metadata": {},
   "outputs": [],
   "source": [
    "ALPHABET_SIZE = 256\n",
    "def bm(pat, txt):\n",
    "    sizeP = len(pat)\n",
    "    sizeT = len(txt)\n",
    "    ocurrences = []\n",
    "    usesTable1 = True\n",
    "    \n",
    "    if sizeP + ALPHABET_SIZE < (sizeP *(sizeP + 1))/2: # los posible O-grandes para solo tener que generar una tabla el el preprocesamiento, dado a que el algoritmo usa una o la otra\n",
    "        # --- 1. BAD CHARACTER TABLE ---\n",
    "        bcT = []\n",
    "        # This part is changed on the instrumentation section. Here we use List Comprehension.\n",
    "        bcT = []\n",
    "        for i in range(ALPHABET_SIZE):\n",
    "            bcT.append(sizeP)\n",
    "        for j in range(sizeP):\n",
    "            bcT[ord(pat[j])] = sizeP - j\n",
    "    else:\n",
    "        # --- 0. SUFFIXES TABLE ---\n",
    "        suff = [0 for i in range(sizeP)]\n",
    "        suff[sizeP-1] = sizeP\n",
    "        g = sizeP - 1\n",
    "        f = 0\n",
    "        for i in range(sizeP-2, -1, -1):\n",
    "            if i > g and suff[i + sizeP - 1 - f] < i-g:\n",
    "                suff[i] = suff[i + sizeP - 1 - f]\n",
    "            else:\n",
    "                if i < g:\n",
    "                    g = i\n",
    "                f = i\n",
    "                while g >= 0 and pat[g] == pat[g + sizeP - 1 - f]:\n",
    "                    g -= 1\n",
    "                suff[i] = f-g\n",
    "        # --- 2. GOOD SUFFIX TABLE ---\n",
    "        gsT = []\n",
    "        gsT = [sizeP for i in range(sizeP)]\n",
    "        for i in range(sizeP-1, -1, -1):\n",
    "            if suff[i] == i+1:\n",
    "                for j in range(0, sizeP-1-i):\n",
    "                    if gsT[j] == sizeP:\n",
    "                        gsT[j] = sizeP - 1 - i\n",
    "        for i in range(0, sizeP-1):\n",
    "            gsT[sizeP-1-suff[i]] = sizeP - 1 - i\n",
    "            \n",
    "        usesTable1 = False\n",
    "    # --- 3. SEARCH STAGE ---\n",
    "    for i in range(0, sizeT-sizeP+1):\n",
    "        submatch = 0\n",
    "        for j in range(sizeP-1, -1, -1):\n",
    "            if(pat[j] != txt[i+j]):\n",
    "                break\n",
    "            submatch += 1\n",
    "        if submatch == sizeP:\n",
    "            ocurrences += [i]\n",
    "        else:\n",
    "            if usesTable1: i += bcT[ord(txt[i+j])]\n",
    "            else: gsT[j]\n",
    "    return ocurrences\n",
    "\n",
    "BM = '''\n",
    "from __main__ import bm\n",
    "'''\n",
    "\n",
    "DNATESTCODERANDOMBM = '''\n",
    "DNAR=\"TACGATGGCGCCAACTCAATCGCAGCTCGAGCGCCCTGAATAACGTACTCATCTCAACTCATTCTCGGCAATCTACCGAGCGACTCGATTATCAACGGCTGTCTAGCAGTTCTAATCTTTTGCCAGCATCGTAATAGCCTCCAAGAGATTGATGATAGCTATCGGCACAGAACTGAGACGGCGCCGATGGATAGCGGACTTTCGGTCAACCACAATTCCCCACGGGACAGGTCCTGCGGTGCGCATCACTCTGAATGTACAAGCAACCCAAGTGGGCCGAGCCTGGACTCAGCTGGTTCCTGCGTGAGCTCGAGACTCGGGATGACAGCTCTTTAAACATAGAGCGGGGGCGTCGAACGGTCGAGAAAGTCATAGTACCTCGGGTACCAACTTACTCAGGTTATTGCTTGAAGCTGTACTATTTTAGGGGGGGAGCGCTGAAGGTCTCTTCTTCTCATGACTGAACTCGCGAGGGTCGTGAAGTCGGTTCCTTCAATGGTTAAAAAACAAAGGCTTACTGTGCGCAGAGGAACGCCCATCTAGCGGCTGGCGTCTTGAATGCTCGGTCCCCTTTGTCATTCCGGATTAATCCATTTCCCTCATTCACGAGCTTGCGAAGTCTACATTGGTATATGAATGCGACCTAGAAGAGGGCGCTTAAAATTGGCAGTGGTTGATGCTCTAAACTCCATTTGGTTTACTCGTGCATCACCGCGATAGGCTGACAAAGGTTTAACATTGAATAGCAAGGCACTTCCGGTCTCAATGAACGGCCGGGAAAGGTACGCGCGCGGTATGGGAGGATCAAGGGGCCAATAGAGAGGCTCCTCTCTCACTCGCTAGGAGGCAAATGTAAAACAATGGTTACTGCATCGATACATAAAACATGTCCATCGGTTGCCCAAAGTGTTAAGTGTCTATCACCCCTAGGGCCGTTTCCCGCATATAAACGCCAGGTTGTATCCGCATTTGATGCTACCGTGGATGAGTCTGCGTCGAG\"\n",
    "bm('A', DNAR)\n",
    "'''"
   ]
  },
  {
   "cell_type": "code",
<<<<<<< HEAD:codigoPythonJupyter/pruebas.ipynb
   "execution_count": 86,
=======
   "execution_count": 12,
>>>>>>> 804372464c1214bfd338847cf32845897f69ac9e:codigoPythonJupyter/pruebasADN.ipynb
   "metadata": {},
   "outputs": [],
   "source": [
    "def rabin_karp(pat, txt):\n",
    "    n = len(pat)\n",
    "    m = len(txt)\n",
    "    d = 256 # characters in alphabet\n",
    "    q = 33554393 # according to princeton edu it is which ever prime, entre pruebas descubri que si sirve, pero solo por el hecho de que hace fuerza bruta cuando encuentra hashes iguales, primos pequeños generan hashes iguales el fuerza bruta no los mete. Pero entonces hace pasas innecesarios.\n",
    "    h = (d**(n-1)) % q   #  \n",
    "    hashPatVal = 0\n",
    "    hashTxtWinVal = 0\n",
    "    indexList = []\n",
    "\n",
    "    for i in range(n): #documento dice de 1 a n, pero como las listas van de 0 a n-1 eso se va a usar en vez\n",
    "        hashPatVal = (d*hashPatVal + ord(pat[i])) % q\n",
    "        hashTxtWinVal = (d*hashTxtWinVal + ord(txt[i])) % q # se utiliza ord para usar como char de c++ que se puede usar con ints\n",
    "    \n",
    "    j = 0\n",
    "    for i in range(m-n+1):\n",
    "        if hashPatVal == hashTxtWinVal:\n",
    "            for j in range(n):\n",
    "                if pat[j] != txt[i+j]:\n",
    "                    break\n",
    "                else: j += 1\n",
    "            if j == n:\n",
    "                indexList += [i]\n",
    "        if i < m-n:\n",
    "            hashTxtWinVal = (d * (hashTxtWinVal - ord(txt[i]) * h) + ord(txt[i + n])) % q\n",
    "            if hashTxtWinVal < 0:\n",
    "                hashTxtWinVal += q\n",
    "    return indexList\n",
    "\n",
    "kr = '''\n",
    "from __main__ import rabin_karp\n",
    "'''\n",
    "\n",
    "DNATESTCODERANDOMKR = '''\n",
    "DNAR=\"TACGATGGCGCCAACTCAATCGCAGCTCGAGCGCCCTGAATAACGTACTCATCTCAACTCATTCTCGGCAATCTACCGAGCGACTCGATTATCAACGGCTGTCTAGCAGTTCTAATCTTTTGCCAGCATCGTAATAGCCTCCAAGAGATTGATGATAGCTATCGGCACAGAACTGAGACGGCGCCGATGGATAGCGGACTTTCGGTCAACCACAATTCCCCACGGGACAGGTCCTGCGGTGCGCATCACTCTGAATGTACAAGCAACCCAAGTGGGCCGAGCCTGGACTCAGCTGGTTCCTGCGTGAGCTCGAGACTCGGGATGACAGCTCTTTAAACATAGAGCGGGGGCGTCGAACGGTCGAGAAAGTCATAGTACCTCGGGTACCAACTTACTCAGGTTATTGCTTGAAGCTGTACTATTTTAGGGGGGGAGCGCTGAAGGTCTCTTCTTCTCATGACTGAACTCGCGAGGGTCGTGAAGTCGGTTCCTTCAATGGTTAAAAAACAAAGGCTTACTGTGCGCAGAGGAACGCCCATCTAGCGGCTGGCGTCTTGAATGCTCGGTCCCCTTTGTCATTCCGGATTAATCCATTTCCCTCATTCACGAGCTTGCGAAGTCTACATTGGTATATGAATGCGACCTAGAAGAGGGCGCTTAAAATTGGCAGTGGTTGATGCTCTAAACTCCATTTGGTTTACTCGTGCATCACCGCGATAGGCTGACAAAGGTTTAACATTGAATAGCAAGGCACTTCCGGTCTCAATGAACGGCCGGGAAAGGTACGCGCGCGGTATGGGAGGATCAAGGGGCCAATAGAGAGGCTCCTCTCTCACTCGCTAGGAGGCAAATGTAAAACAATGGTTACTGCATCGATACATAAAACATGTCCATCGGTTGCCCAAAGTGTTAAGTGTCTATCACCCCTAGGGCCGTTTCCCGCATATAAACGCCAGGTTGTATCCGCATTTGATGCTACCGTGGATGAGTCTGCGTCGAG\"\n",
    "rabin_karp('A', DNAR)\n",
    "'''"
   ]
  },
  {
   "cell_type": "code",
<<<<<<< HEAD:codigoPythonJupyter/pruebas.ipynb
   "execution_count": 87,
=======
   "execution_count": 13,
>>>>>>> 804372464c1214bfd338847cf32845897f69ac9e:codigoPythonJupyter/pruebasADN.ipynb
   "metadata": {},
   "outputs": [
    {
     "name": "stdout",
     "output_type": "stream",
     "text": [
<<<<<<< HEAD:codigoPythonJupyter/pruebas.ipynb
      "Fuerza Bruta: 0.6174097999992227\n",
      "KMP: 0.6918731999994634\n",
      "BM: 1.1362981000002037\n",
      "KR: 0.9675516999996034\n"
=======
      "Fuerza Bruta: 0.19684476702241227\n",
      "KMP: 0.20023226298508234\n",
      "BM: 0.350552707008319\n",
      "KR: 0.325342569994973\n"
>>>>>>> 804372464c1214bfd338847cf32845897f69ac9e:codigoPythonJupyter/pruebasADN.ipynb
     ]
    }
   ],
   "source": [
    "import timeit\n",
    "\n",
    "print(f\"Fuerza Bruta: {min(timeit.repeat(DNATESTCODERANDOMFB, fb, repeat=5, number=1000))}\")\n",
    "print(f\"KMP: {min(timeit.repeat(DNATESTCODERANDOMKMP, kmp, repeat=5, number=1000))}\")\n",
    "print(f\"BM: {min(timeit.repeat(DNATESTCODERANDOMBM, BM, repeat=5, number=1000))}\")\n",
    "print(f\"KR: {min(timeit.repeat(DNATESTCODERANDOMKR, kr, repeat=5, number=1000))}\")"
   ]
  },
  {
   "cell_type": "code",
<<<<<<< HEAD:codigoPythonJupyter/pruebas.ipynb
   "execution_count": 88,
   "metadata": {},
   "outputs": [],
   "source": [
    "def tieneHuntington(v):\n",
    "    # print(v)\n",
    "    cont = 1\n",
    "\n",
    "    for i in range(1, len(v)):\n",
    "        differance = v[i] - v[i-1]\n",
    "        if v[i] - v[i-1] == 3:\n",
    "            cont += 1\n",
    "            if cont >= 36:\n",
    "                return True\n",
    "        else:\n",
    "            cont = 0\n",
    "    return False\n",
    "\n",
    "HuntingtonFB = '''\n",
    "from __main__ import fuerza_bruta\n",
    "from __main__ import tieneHuntington\n",
    "'''\n",
    "\n",
    "HuntingtonKMP = '''\n",
    "from __main__ import KMPSearch\n",
    "from __main__ import tieneHuntington\n",
    "'''\n",
    "\n",
    "HuntingtonBM = '''\n",
    "from __main__ import bm\n",
    "from __main__ import tieneHuntington\n",
    "'''\n",
    "\n",
    "HuntingtonKR = '''\n",
    "from __main__ import rabin_karp\n",
    "from __main__ import tieneHuntington\n",
    "'''"
   ]
  },
  {
   "cell_type": "code",
   "execution_count": 89,
   "metadata": {},
   "outputs": [
    {
     "name": "stdout",
     "output_type": "stream",
     "text": [
      "False\n",
      "False\n",
      "False\n",
      "False\n",
      "True\n",
      "True\n",
      "True\n",
      "True\n"
     ]
    }
   ],
   "source": [
    "print(tieneHuntington(fuerza_bruta(DNANWH, HUNTINGTON)))\n",
    "print(tieneHuntington(KMPSearch(DNANWH, HUNTINGTON)))\n",
    "print(tieneHuntington(bm(HUNTINGTON, DNANWH)))\n",
    "print(tieneHuntington(rabin_karp(HUNTINGTON, DNANWH)))\n",
    "\n",
    "print(tieneHuntington(fuerza_bruta(DNAWH, HUNTINGTON)))\n",
    "print(tieneHuntington(KMPSearch(DNAWH, HUNTINGTON)))\n",
    "print(tieneHuntington(bm(HUNTINGTON, DNAWH)))\n",
    "print(tieneHuntington(rabin_karp(HUNTINGTON, DNAWH)))\n",
    "\n",
    "testHFB1 = '''\n",
    "DNANWH=\"ATGGCGACCCTGGAAAAGCTGATGAAGGCCTTCGAGTCCCTCAAGTCCTTCCAGCAGCAGCAGCAGCAGCAGCAGCAGCAGCAGCAGCAGCAGCAGCAGCAGCAGCAGCAACAGCCGCCACCGCCGCCGCCGCCGCCGCCGCCTCCTCAGCTTCCTCAGCCGCCGCCGCAGGCACAGCCGCTGCTGCCTCAGCCGCAGCCGCCCCCGCCGCCGCCG\"\n",
    "HUNTINGTON=\"CAG\"\n",
    "tieneHuntington(fuerza_bruta(DNANWH, HUNTINGTON))\n",
    "'''\n",
    "testHKMP1 = '''\n",
    "DNANWH=\"ATGGCGACCCTGGAAAAGCTGATGAAGGCCTTCGAGTCCCTCAAGTCCTTCCAGCAGCAGCAGCAGCAGCAGCAGCAGCAGCAGCAGCAGCAGCAGCAGCAGCAGCAGCAACAGCCGCCACCGCCGCCGCCGCCGCCGCCGCCTCCTCAGCTTCCTCAGCCGCCGCCGCAGGCACAGCCGCTGCTGCCTCAGCCGCAGCCGCCCCCGCCGCCGCCG\"\n",
    "HUNTINGTON=\"CAG\"\n",
    "tieneHuntington(KMPSearch(DNANWH, HUNTINGTON))\n",
    "'''\n",
    "testHBM1 = '''\n",
    "DNANWH=\"ATGGCGACCCTGGAAAAGCTGATGAAGGCCTTCGAGTCCCTCAAGTCCTTCCAGCAGCAGCAGCAGCAGCAGCAGCAGCAGCAGCAGCAGCAGCAGCAGCAGCAGCAGCAACAGCCGCCACCGCCGCCGCCGCCGCCGCCGCCTCCTCAGCTTCCTCAGCCGCCGCCGCAGGCACAGCCGCTGCTGCCTCAGCCGCAGCCGCCCCCGCCGCCGCCG\"\n",
    "HUNTINGTON=\"CAG\"\n",
    "tieneHuntington(bm(HUNTINGTON, DNANWH))\n",
    "'''\n",
    "testHKR1 = '''\n",
    "DNANWH=\"ATGGCGACCCTGGAAAAGCTGATGAAGGCCTTCGAGTCCCTCAAGTCCTTCCAGCAGCAGCAGCAGCAGCAGCAGCAGCAGCAGCAGCAGCAGCAGCAGCAGCAGCAGCAACAGCCGCCACCGCCGCCGCCGCCGCCGCCGCCTCCTCAGCTTCCTCAGCCGCCGCCGCAGGCACAGCCGCTGCTGCCTCAGCCGCAGCCGCCCCCGCCGCCGCCG\"\n",
    "HUNTINGTON=\"CAG\"\n",
    "tieneHuntington(rabin_karp(HUNTINGTON, DNANWH))\n",
    "'''\n",
    "\n",
    "testHFB2 = '''\n",
    "DNAWH=\"ATGGCGACCCTGGAAAAGCTGATGAAGGCCTTCGAGTCCCTCAAGTCCTTCCAGCAGCAGCAGCAGCAGCAGCAGCAGCAGCAGCAGCAGCAGCAGCAGCAGCAGCAGCAGCAGCAGCAGCAGCAGCAGCAGCAGCAGCAGCAGCAGCAGCAGCAGCAGCAACAGCCGCCACCGCCGCCGCCGCCGCCGCCGCCTCCTCAGCTTCCTCAGCCGCCGCCGCAGGCACAGCCGCTGCTGCCTCAGCCGCAGCCGCCCCCGCCGCCGCCG\"\n",
    "HUNTINGTON=\"CAG\"\n",
    "tieneHuntington(fuerza_bruta(DNAWH, HUNTINGTON))\n",
    "'''\n",
    "testHKMP2 = '''\n",
    "DNAWH=\"ATGGCGACCCTGGAAAAGCTGATGAAGGCCTTCGAGTCCCTCAAGTCCTTCCAGCAGCAGCAGCAGCAGCAGCAGCAGCAGCAGCAGCAGCAGCAGCAGCAGCAGCAGCAGCAGCAGCAGCAGCAGCAGCAGCAGCAGCAGCAGCAGCAGCAGCAGCAGCAACAGCCGCCACCGCCGCCGCCGCCGCCGCCGCCTCCTCAGCTTCCTCAGCCGCCGCCGCAGGCACAGCCGCTGCTGCCTCAGCCGCAGCCGCCCCCGCCGCCGCCG\"\n",
    "HUNTINGTON=\"CAG\"\n",
    "tieneHuntington(KMPSearch(DNAWH, HUNTINGTON))\n",
    "'''\n",
    "testHBM2 = '''\n",
    "DNAWH=\"ATGGCGACCCTGGAAAAGCTGATGAAGGCCTTCGAGTCCCTCAAGTCCTTCCAGCAGCAGCAGCAGCAGCAGCAGCAGCAGCAGCAGCAGCAGCAGCAGCAGCAGCAGCAGCAGCAGCAGCAGCAGCAGCAGCAGCAGCAGCAGCAGCAGCAGCAGCAGCAACAGCCGCCACCGCCGCCGCCGCCGCCGCCGCCTCCTCAGCTTCCTCAGCCGCCGCCGCAGGCACAGCCGCTGCTGCCTCAGCCGCAGCCGCCCCCGCCGCCGCCG\"\n",
    "HUNTINGTON=\"CAG\"\n",
    "tieneHuntington(bm(HUNTINGTON, DNAWH))\n",
    "'''\n",
    "testHKR2 = '''\n",
    "DNAWH=\"ATGGCGACCCTGGAAAAGCTGATGAAGGCCTTCGAGTCCCTCAAGTCCTTCCAGCAGCAGCAGCAGCAGCAGCAGCAGCAGCAGCAGCAGCAGCAGCAGCAGCAGCAGCAGCAGCAGCAGCAGCAGCAGCAGCAGCAGCAGCAGCAGCAGCAGCAGCAGCAACAGCCGCCACCGCCGCCGCCGCCGCCGCCGCCTCCTCAGCTTCCTCAGCCGCCGCCGCAGGCACAGCCGCTGCTGCCTCAGCCGCAGCCGCCCCCGCCGCCGCCG\"\n",
    "HUNTINGTON=\"CAG\"\n",
    "tieneHuntington(rabin_karp(HUNTINGTON, DNAWH))\n",
    "'''\n"
   ]
  },
  {
   "cell_type": "code",
   "execution_count": 90,
=======
   "execution_count": 14,
>>>>>>> 804372464c1214bfd338847cf32845897f69ac9e:codigoPythonJupyter/pruebasADN.ipynb
   "metadata": {},
   "outputs": [
    {
     "name": "stdout",
     "output_type": "stream",
     "text": [
<<<<<<< HEAD:codigoPythonJupyter/pruebas.ipynb
      "Fuerza Bruta 1: 0.19445300000006682\n",
      "KMP 1: 0.20795450000150595\n",
      "BM 1: 0.30322140000134823\n",
      "KR 1: 0.21800710000024992\n"
=======
      "BM: 139.21736982601578\n"
>>>>>>> 804372464c1214bfd338847cf32845897f69ac9e:codigoPythonJupyter/pruebasADN.ipynb
     ]
    }
   ],
   "source": [
    "print(f\"Fuerza Bruta 1: {min(timeit.repeat(testHFB1, HuntingtonFB, repeat=5, number=1000))}\")\n",
    "print(f\"KMP 1: {min(timeit.repeat(testHKMP1, HuntingtonKMP, repeat=5, number=1000))}\")\n",
    "print(f\"BM 1: {min(timeit.repeat(testHBM1, HuntingtonBM, repeat=5, number=1000))}\")\n",
    "print(f\"KR 1: {min(timeit.repeat(testHKR1, HuntingtonKR, repeat=5, number=1000))}\")"
   ]
  },
  {
   "cell_type": "code",
   "execution_count": 91,
   "metadata": {},
   "outputs": [
    {
     "name": "stdout",
     "output_type": "stream",
     "text": [
      "Fuerza Bruta 2: 0.23965160000079777\n",
      "KMP 2: 0.22402119999969727\n",
      "BM 2: 0.3662893000000622\n",
      "KR 2: 0.3046056999992288\n"
     ]
    }
   ],
   "source": [
    "print(f\"Fuerza Bruta 2: {min(timeit.repeat(testHFB2, HuntingtonFB, repeat=5, number=1000))}\")\n",
    "print(f\"KMP 2: {min(timeit.repeat(testHKMP2, HuntingtonKMP, repeat=5, number=1000))}\")\n",
    "print(f\"BM 2: {min(timeit.repeat(testHBM2, HuntingtonBM, repeat=5, number=1000))}\")\n",
    "print(f\"KR 2: {min(timeit.repeat(testHKR2, HuntingtonKR, repeat=5, number=1000))}\")"
   ]
  },
  {
   "cell_type": "code",
   "execution_count": 92,
   "metadata": {},
   "outputs": [],
   "source": [
    "harryPotterTestFB = '''\n",
    "with open (\"harrypotter1.txt\", \"r\") as myfile:\n",
    "    harrypotter = myfile.read()\n",
    "    fuerza_bruta(harrypotter, 'Harry')\n",
    "'''\n",
    "\n",
    "harryPotterTestKMP = '''\n",
    "with open (\"harrypotter1.txt\", \"r\") as myfile:\n",
    "    harrypotter = myfile.read()\n",
    "    KMPSearch(harrypotter, 'Harry')\n",
    "'''\n",
    "\n",
    "harryPotterTestBM = '''\n",
    "with open (\"harrypotter1.txt\", \"r\") as myfile:\n",
    "    harrypotter = myfile.read()\n",
    "    bm('Harry', harrypotter)\n",
    "'''\n",
    "\n",
    "harryPotterTestKR = '''\n",
    "with open (\"harrypotter1.txt\", \"r\") as myfile:\n",
    "    harrypotter = myfile.read()\n",
    "    rabin_karp('Harry', harrypotter)\n",
    "'''\n",
<<<<<<< HEAD:codigoPythonJupyter/pruebas.ipynb
    "# print(f\"Fuerza Bruta: {min(timeit.repeat(harryPotterTestFB, fb, repeat=5, number=1000))}\")\n",
    "# print(f\"KMP: {min(timeit.repeat(harryPotterTestKMP, kmp, repeat=5, number=1000))}\")\n",
    "# print(f\"BM: {min(timeit.repeat(harryPotterTestBM, BM, repeat=5, number=1000))}\")\n",
    "# print(f\"KR: {min(timeit.repeat(harryPotterTestKR, kr, repeat=5, number=1000))}\")"
=======
    "#print(f\"Fuerza Bruta: {min(timeit.repeat(harryPotterTestFB, fb, repeat=5, number=1000))}\")\n",
    "# print(f\"KMP: {min(timeit.repeat(harryPotterTestKMP, kmp, repeat=5, number=1000))}\")\n",
    "print(f\"BM: {min(timeit.repeat(harryPotterTestBM, BM, repeat=5, number=1000))}\")\n",
    "# print(f\"KR: {min(timeit.repeat(harryPotterTestKR, kr, repeat=5, number=1000))}\")\n",
    "    \n"
>>>>>>> 804372464c1214bfd338847cf32845897f69ac9e:codigoPythonJupyter/pruebasADN.ipynb
   ]
  }
 ],
 "metadata": {
  "kernelspec": {
   "display_name": "Python 3.10.2 64-bit",
   "language": "python",
   "name": "python3"
  },
  "language_info": {
   "codemirror_mode": {
    "name": "ipython",
    "version": 3
   },
   "file_extension": ".py",
   "mimetype": "text/x-python",
   "name": "python",
   "nbconvert_exporter": "python",
   "pygments_lexer": "ipython3",
   "version": "3.10.2"
  },
  "orig_nbformat": 4,
  "vscode": {
   "interpreter": {
    "hash": "aee8b7b246df8f9039afb4144a1f6fd8d2ca17a180786b69acc140d282b71a49"
   }
  }
 },
 "nbformat": 4,
 "nbformat_minor": 2
}
