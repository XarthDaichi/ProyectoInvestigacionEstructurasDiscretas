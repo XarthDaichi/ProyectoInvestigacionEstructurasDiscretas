{
 "cells": [
  {
   "cell_type": "code",
   "execution_count": 1,
   "metadata": {},
   "outputs": [
    {
     "name": "stdout",
     "output_type": "stream",
     "text": [
      "[0, 8]\n",
      "[0, 8]\n",
      "1672\n"
     ]
    }
   ],
   "source": [
    "'''\n",
    "https://www.cs.princeton.edu/courses/archive/fall04/cos226/lectures/string.4up.pdf\n",
    "\n",
    "https://www.geeksforgeeks.org/rabin-karp-algorithm-for-pattern-searching/\n",
    "https://primo-tc-na01.hosted.exlibrisgroup.com/permalink/f/1786fk9/TN_cdi_crossref_primary_10_1109_ACCESS_2019_2914071\n",
    "'''\n",
    "\n",
    "# https://edutechlearners.com/download/Introduction_to_algorithms-3rd%20Edition.pdf (major referance)\n",
    "# Coefficient representation\n",
    "# Horner's rule A(x_0) = a_0 + x_0(a_1 + x_0(a_2 + ... + x_0(a_n-2 + x_0(a_n-1)))) \n",
    "\n",
    "def rabin_karp(pat, txt):\n",
    "    n = len(pat)\n",
    "    m = len(txt)\n",
    "    d = 256 # characters in alphabet\n",
    "    q = 33554393 # according to princeton edu it is which ever prime, entre pruebas descubri que si sirve, pero solo por el hecho de que hace fuerza bruta cuando encuentra hashes iguales, primos pequeños generan hashes iguales el fuerza bruta no los mete. Pero entonces hace pasas innecesarios.\n",
    "    h = (d**(n-1)) % q   #  \n",
    "    hashPatVal = 0\n",
    "    hashTxtWinVal = 0\n",
    "    indexList = []\n",
    "\n",
    "    for i in range(n): #documento dice de 1 a n, pero como las listas van de 0 a n-1 eso se va a usar en vez\n",
    "        hashPatVal = (d*hashPatVal + ord(pat[i])) % q\n",
    "        hashTxtWinVal = (d*hashTxtWinVal + ord(txt[i])) % q # se utiliza ord para usar como char de c++ que se puede usar con ints\n",
    "    \n",
    "    j = 0\n",
    "    for i in range(m-n+1):\n",
    "        if hashPatVal == hashTxtWinVal:\n",
    "            for j in range(n):\n",
    "                if pat[j] != txt[i+j]:\n",
    "                    break\n",
    "                else: j += 1\n",
    "            if j == n:\n",
    "                indexList += [i]\n",
    "        if i < m-n:\n",
    "            hashTxtWinVal = (d * (hashTxtWinVal - ord(txt[i]) * h) + ord(txt[i + n])) % q\n",
    "            if hashTxtWinVal < 0:\n",
    "                hashTxtWinVal += q\n",
    "    return indexList\n",
    "    \n",
    "print(rabin_karp(\"GEEK\", \"GEEKSFORGEEKS\"))\n",
    "print(rabin_karp(\"1234\", \"1234567812345\"))\n",
    "\n",
    "with open('../FuerzaBruta/harrypotter1.txt', 'r') as file:\n",
    "    txt = file.read().replace('\\n', ' ')\n",
    "    harryList = rabin_karp(\"Harry\", txt)\n",
    "    print(len(harryList))\n",
    "        "
   ]
  },
  {
   "cell_type": "code",
   "execution_count": 5,
   "metadata": {},
   "outputs": [
    {
     "data": {
      "image/png": "[encoded data removed]",
      "text/plain": [
       "<Figure size 432x288 with 1 Axes>"
      ]
     },
     "metadata": {
      "needs_background": "light"
     },
     "output_type": "display_data"
    }
   ],
   "source": [
    "import matplotlib.pyplot  as plt\n",
    "import numpy as np\n",
    "import math as m\n",
    "\n",
    "def rabin_karp_instrumentado(pat, txt):\n",
    "    n = len(pat)\n",
    "    m = len(txt)\n",
    "    d = 256\n",
    "    q = 33554393\n",
    "    h = (d**(n-1)) % q\n",
    "    hashPatVal = 0\n",
    "    hashTxtWinVal = 0\n",
    "    indexList = []\n",
    "    cont = 0 # de la instrumentacion\n",
    "\n",
    "    for i in range(n):\n",
    "        hashPatVal = (d*hashPatVal + ord(pat[i])) % q\n",
    "        hashTxtWinVal = (d*hashTxtWinVal + ord(txt[i])) % q\n",
    "    \n",
    "    j = 0\n",
    "    for i in range(m-n+1):\n",
    "        cont += 1 # por el == de abajo\n",
    "        if hashPatVal == hashTxtWinVal:\n",
    "            for j in range(n):\n",
    "                cont += 1 # por el != de abajo\n",
    "                if pat[j] != txt[i+j]:\n",
    "                    break\n",
    "                else: j += 1\n",
    "            # esto solo esta verificando que llego hasta abajo no comparando caracteres o hashes\n",
    "            if j == n:\n",
    "                indexList += [i]\n",
    "        if i < m-n:\n",
    "            hashTxtWinVal = (d * (hashTxtWinVal - ord(txt[i]) * h) + ord(txt[i + n])) % q\n",
    "            if hashTxtWinVal < 0:\n",
    "                hashTxtWinVal += q\n",
    "    return cont\n",
    "\n",
    "def test_rabin_karp_instrumentado(start, end, inc):\n",
    "    graph = []\n",
    "    graph.append([])\n",
    "    graph.append([])\n",
    "    for i in range(start, end, inc):\n",
    "        a = \"aa\" * i\n",
    "        b = \"a\" * i\n",
    "        graph[0] += [len(a) * len(b)]\n",
    "        graph[1] += [rabin_karp_instrumentado(b, a)]\n",
    "    return graph\n",
    "\n",
    "g = test_rabin_karp_instrumentado(10, 200, 10)\n",
    "tempX = list(range(10, 70000, 10))\n",
    "plt.plot(g[0], g[1],  \"--\", color=\"blue\", label=\"rabin_karp\") \n",
    "plt.plot(tempX, tempX, \":\", color=\"red\", label=\"identidad\")\n",
    "plt.legend()\n",
    "plt.xlabel('Time')\n",
    "plt.ylabel(\"n * m\")\n",
    "plt.title(\"Análisis de Tiempo de Karp-Rabin\")\n",
    "plt.show()"
   ]
  }
 ],
 "metadata": {
  "interpreter": {
   "hash": "722fc858008cf1041b4dd6c954dc939cb4c526adc9905b7bfe040fcc021795bf"
  },
  "kernelspec": {
   "display_name": "Python 3.9.7 ('base')",
   "language": "python",
   "name": "python3"
  },
  "language_info": {
   "codemirror_mode": {
    "name": "ipython",
    "version": 3
   },
   "file_extension": ".py",
   "mimetype": "text/x-python",
   "name": "python",
   "nbconvert_exporter": "python",
   "pygments_lexer": "ipython3",
   "version": "3.9.7"
  },
  "orig_nbformat": 4
 },
 "nbformat": 4,
 "nbformat_minor": 2
}
