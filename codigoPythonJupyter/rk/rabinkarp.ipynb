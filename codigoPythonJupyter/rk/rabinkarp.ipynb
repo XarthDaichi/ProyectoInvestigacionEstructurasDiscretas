{
 "cells": [
  {
   "cell_type": "code",
   "execution_count": 35,
   "metadata": {},
   "outputs": [
    {
     "name": "stdout",
     "output_type": "stream",
     "text": [
      "1672\n"
     ]
    }
   ],
   "source": [
    "'''\n",
    "https://www.cs.princeton.edu/courses/archive/fall04/cos226/lectures/string.4up.pdf\n",
    "\n",
    "https://www.geeksforgeeks.org/rabin-karp-algorithm-for-pattern-searching/\n",
    "https://primo-tc-na01.hosted.exlibrisgroup.com/permalink/f/1786fk9/TN_cdi_crossref_primary_10_1109_ACCESS_2019_2914071\n",
    "'''\n",
    "\n",
    "# https://edutechlearners.com/download/Introduction_to_algorithms-3rd%20Edition.pdf (major referance)\n",
    "# Coefficient representation\n",
    "# Horner's rule A(x_0) = a_0 + x_0(a_1 + x_0(a_2 + ... + x_0(a_n-2 + x_0(a_n-1)))) \n",
    "\n",
    "def rabin_karp(pat, txt):\n",
    "    n = len(pat)\n",
    "    m = len(txt)\n",
    "    d = 256 # characters in alphabet\n",
    "    q = 33554393 # according to princeton edu it is which ever prime, entre pruebas descubri que si sirve, pero solo por el hecho de que hace fuerza bruta cuando encuentra hashes iguales, primos pequeños generan hashes iguales el fuerza bruta no los mete. Pero entonces hace pasas innecesarios.\n",
    "    h = (d**(n-1)) % q   #  \n",
    "    hashPatVal = 0\n",
    "    hashTxtWinVal = 0\n",
    "    indexList = []\n",
    "\n",
    "    for i in range(n): #documento dice de 1 a n, pero como las listas van de 0 a n-1 eso se va a usar en vez\n",
    "        hashPatVal = (d*hashPatVal + ord(pat[i])) % q\n",
    "        hashTxtWinVal = (d*hashTxtWinVal + ord(txt[i])) % q # se utiliza ord para usar como char de c++ que se puede usar con ints\n",
    "    \n",
    "    j = 0\n",
    "    for i in range(m-n+1):\n",
    "        if hashPatVal == hashTxtWinVal:\n",
    "            for j in range(n):\n",
    "                if pat[j] != txt[i+j]:\n",
    "                    break\n",
    "                else: j += 1\n",
    "            if j == n:\n",
    "                indexList += [i]\n",
    "        if i < m-n:\n",
    "            hashTxtWinVal = (d * (hashTxtWinVal - ord(txt[i]) * h) + ord(txt[i + n])) % q\n",
    "            if hashTxtWinVal < 0:\n",
    "                hashTxtWinVal += q\n",
    "    return indexList\n",
    "    \n",
    "# print(rabin_karp(\"GEEK\", \"GEEKSFORGEEKS\"))\n",
    "# print(rabin_karp(\"1234\", \"1234567812345\"))\n",
    "\n",
    "with open('../FuerzaBruta/harrypotter1.txt', 'r') as file:\n",
    "    txt = file.read().replace('\\n', ' ')\n",
    "    harryList = rabin_karp(\"Harry\", txt)\n",
    "    print(len(harryList))\n",
    "        "
   ]
  },
  {
   "cell_type": "code",
   "execution_count": 18,
   "metadata": {},
   "outputs": [
    {
     "name": "stdout",
     "output_type": "stream",
     "text": [
      "5\n",
      "Pattern found at index 0\n",
      "Pattern found at index 8\n"
     ]
    }
   ],
   "source": [
    "def search(pat, txt):\n",
    "    d = 256\n",
    "    q = 101\n",
    "    M = len(pat)\n",
    "    N = len(txt)\n",
    "    i = 0\n",
    "    j = 0\n",
    "    p = 0    # hash value for pattern\n",
    "    t = 0    # hash value for txt\n",
    "    h = 1\n",
    " \n",
    "    # The value of h would be \"pow(d, M-1)%q\"\n",
    "    # for i in range(M-1):\n",
    "    #     h = (h*d)%q\n",
    "    h = (d**(M-1)) % q\n",
    "    print(h)\n",
    "    # Calculate the hash value of pattern and first window\n",
    "    # of text\n",
    "    for i in range(M):\n",
    "        p = (d*p + ord(pat[i]))%q\n",
    "        t = (d*t + ord(txt[i]))%q\n",
    " \n",
    "    # Slide the pattern over text one by one\n",
    "    for i in range(N-M+1):\n",
    "        # Check the hash values of current window of text and\n",
    "        # pattern if the hash values match then only check\n",
    "        # for characters one by one\n",
    "        if p==t:\n",
    "            # Check for characters one by one\n",
    "            for j in range(M):\n",
    "                if txt[i+j] != pat[j]:\n",
    "                    break\n",
    "                else: j+=1\n",
    " \n",
    "            # if p == t and pat[0...M-1] = txt[i, i+1, ...i+M-1]\n",
    "            if j==M:\n",
    "                print (\"Pattern found at index \" + str(i))\n",
    " \n",
    "        # Calculate hash value for next window of text: Remove\n",
    "        # leading digit, add trailing digit\n",
    "        if i < N-M:\n",
    "            t = (d*(t-ord(txt[i])*h) + ord(txt[i+M]))%q\n",
    " \n",
    "            # We might get negative values of t, converting it to\n",
    "            # positive\n",
    "            if t < 0:\n",
    "                t = t+q\n",
    "                \n",
    "search(\"GEEK\", \"GEEKSFORGEEKS\")"
   ]
  }
 ],
 "metadata": {
  "interpreter": {
   "hash": "722fc858008cf1041b4dd6c954dc939cb4c526adc9905b7bfe040fcc021795bf"
  },
  "kernelspec": {
   "display_name": "Python 3.9.7 ('base')",
   "language": "python",
   "name": "python3"
  },
  "language_info": {
   "codemirror_mode": {
    "name": "ipython",
    "version": 3
   },
   "file_extension": ".py",
   "mimetype": "text/x-python",
   "name": "python",
   "nbconvert_exporter": "python",
   "pygments_lexer": "ipython3",
   "version": "3.9.7"
  },
  "orig_nbformat": 4
 },
 "nbformat": 4,
 "nbformat_minor": 2
}
