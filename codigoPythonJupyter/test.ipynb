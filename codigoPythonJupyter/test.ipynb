{
 "cells": [
  {
   "cell_type": "code",
   "execution_count": null,
   "metadata": {},
   "outputs": [],
   "source": [
    "def busqueda_binaria(a:'list[int]', x:int)-> int:\n",
    "    if len(a) == 0:\n",
    "        return -1\n",
    "    n = (len(a)-1)//2\n",
    "    # print(f\"{n},{a[n]}\")\n",
    "    if a[n] == x:\n",
    "        return n\n",
    "    elif a[n] > x:\n",
    "        return busqueda_binaria(a[:n], x)\n",
    "    elif a[n] < x:\n",
    "        test = busqueda_binaria(a[n+1:], x)\n",
    "        if test != -1:\n",
    "            return n+1 + test\n",
    "        else:\n",
    "            return test\n",
    "        \n",
    "a = [1,2,3,4,5,6,7,8]\n",
    "x = 8\n",
    "print(busqueda_binaria(a, x))"
   ]
  },
  {
   "cell_type": "markdown",
   "metadata": {},
   "source": [
    "this is a markdown"
   ]
  },
  {
   "cell_type": "code",
   "execution_count": null,
   "metadata": {},
   "outputs": [],
   "source": []
  }
 ],
 "metadata": {
  "interpreter": {
   "hash": "916dbcbb3f70747c44a77c7bcd40155683ae19c65e1c03b4aa3499c5328201f1"
  },
  "kernelspec": {
   "display_name": "Python 3.8.10 64-bit",
   "language": "python",
   "name": "python3"
  },
  "language_info": {
   "name": "python",
   "version": "3.8.10"
  },
  "orig_nbformat": 4
 },
 "nbformat": 4,
 "nbformat_minor": 2
}
